{
 "cells": [
  {
   "cell_type": "markdown",
   "id": "e851d9c1",
   "metadata": {},
   "source": [
    "# Exercise 3\n",
    "\n",
    "1. Accept user name, age and list of skills\n",
    "2. Pass the state through 3 nodes that:\n",
    "    - First node : Personalize name with greeting message\n",
    "    - Second node : Describe user age\n",
    "    - Third node : List the user skills\n",
    "3. result field should have the final message\n",
    "\n",
    "Output: \"Praveen, welcome to the system! You are 25 years old and you have skills in [Python, Machine Learning, Deep Learning]\"\n",
    "\n",
    "hint: You have to use the add_edge method twice\n",
    "    "
   ]
  },
  {
   "cell_type": "code",
   "execution_count": 1,
   "id": "e72cac05",
   "metadata": {},
   "outputs": [],
   "source": [
    "from typing import TypedDict # Imports all the data types we need\n",
    "from langgraph.graph import StateGraph"
   ]
  },
  {
   "cell_type": "code",
   "execution_count": 2,
   "id": "4495b528",
   "metadata": {},
   "outputs": [],
   "source": [
    "class AgentState(TypedDict):\n",
    "    name: str\n",
    "    age: str\n",
    "    skills: list[str]\n",
    "    final: str"
   ]
  },
  {
   "cell_type": "code",
   "execution_count": 3,
   "id": "ecf1774f",
   "metadata": {},
   "outputs": [],
   "source": [
    "def greeting_node(state:AgentState) -> AgentState:\n",
    "    \"\"\"This is the first node of our sequence\"\"\"\n",
    "\n",
    "    state[\"final\"] = f\"Hi {state['name']}! welcome to the system!\"\n",
    "    return state\n",
    "\n",
    "def age_node(state:AgentState) -> AgentState:\n",
    "    \"\"\"This is the second node of our sequence\"\"\"\n",
    "\n",
    "    state[\"final\"] = state[\"final\"] + f\" You are {state['age']} years old!\"\n",
    "\n",
    "    return state\n",
    "\n",
    "def skills_node(state:AgentState) -> AgentState:\n",
    "    \"\"\"This is the third node of our sequence\"\"\"\n",
    "\n",
    "    state[\"final\"] = state[\"final\"] + f\" You have skills in {state['skills']}\"\n",
    "\n",
    "    return state"
   ]
  },
  {
   "cell_type": "code",
   "execution_count": 4,
   "id": "9f38760a",
   "metadata": {},
   "outputs": [],
   "source": [
    "graph = StateGraph(AgentState)\n",
    "\n",
    "graph.add_node(\"greeting_node\", greeting_node)\n",
    "graph.add_node(\"age_node\", age_node)\n",
    "graph.add_node(\"skills_node\", skills_node)\n",
    "\n",
    "graph.set_entry_point(\"greeting_node\")\n",
    "graph.add_edge(\"greeting_node\", \"age_node\")\n",
    "graph.add_edge(\"age_node\", \"skills_node\")\n",
    "graph.set_finish_point(\"skills_node\")\n",
    "\n",
    "app = graph.compile()"
   ]
  },
  {
   "cell_type": "code",
   "execution_count": 5,
   "id": "9c506e68",
   "metadata": {},
   "outputs": [
    {
     "data": {
      "image/png": "[encoded data removed]",
      "text/plain": [
       "<IPython.core.display.Image object>"
      ]
     },
     "metadata": {},
     "output_type": "display_data"
    }
   ],
   "source": [
    "from IPython.display import Image, display\n",
    "display(Image(app.get_graph().draw_mermaid_png()))"
   ]
  },
  {
   "cell_type": "code",
   "execution_count": 6,
   "id": "65ff3c29",
   "metadata": {},
   "outputs": [
    {
     "name": "stdout",
     "output_type": "stream",
     "text": [
      "{'name': 'Praveen', 'age': 25, 'skills': ['Python', 'Machine Learning', 'Deep Learning'], 'final': \"Hi Praveen! welcome to the system! You are 25 years old! You have skills in ['Python', 'Machine Learning', 'Deep Learning']\"}\n"
     ]
    }
   ],
   "source": [
    "result = app.invoke({\"name\": \"Praveen\", \"age\": 25, \"skills\": [\"Python\", \"Machine Learning\", \"Deep Learning\"]})\n",
    "print(result)"
   ]
  },
  {
   "cell_type": "code",
   "execution_count": 7,
   "id": "96ab8b62",
   "metadata": {},
   "outputs": [
    {
     "data": {
      "text/plain": [
       "\"Hi Praveen! welcome to the system! You are 25 years old! You have skills in ['Python', 'Machine Learning', 'Deep Learning']\""
      ]
     },
     "execution_count": 7,
     "metadata": {},
     "output_type": "execute_result"
    }
   ],
   "source": [
    "result[\"final\"]"
   ]
  }
 ],
 "metadata": {
  "kernelspec": {
   "display_name": ".venv",
   "language": "python",
   "name": "python3"
  },
  "language_info": {
   "codemirror_mode": {
    "name": "ipython",
    "version": 3
   },
   "file_extension": ".py",
   "mimetype": "text/x-python",
   "name": "python",
   "nbconvert_exporter": "python",
   "pygments_lexer": "ipython3",
   "version": "3.11.11"
  }
 },
 "nbformat": 4,
 "nbformat_minor": 5
}
